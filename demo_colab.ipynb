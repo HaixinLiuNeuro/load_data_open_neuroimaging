{
 "cells": [
  {
   "cell_type": "code",
   "execution_count": null,
   "metadata": {},
   "outputs": [],
   "source": [
    "# demo colab\n",
    "# clone repo\n",
    "!git clone https://github.com/HaixinLiuNeuro/load_data_open_neuroimaging.git"
   ]
  },
  {
   "cell_type": "code",
   "execution_count": null,
   "metadata": {},
   "outputs": [],
   "source": [
    "# install dependency\n",
    "!pip install openneuro-py "
   ]
  },
  {
   "cell_type": "code",
   "execution_count": null,
   "metadata": {},
   "outputs": [],
   "source": [
    "# imports\n",
    "import os\n",
    "from datasets import openneuro_dataset"
   ]
  },
  {
   "cell_type": "code",
   "execution_count": null,
   "metadata": {},
   "outputs": [],
   "source": [
    "OpenNeuroDataSet = OpenNeuroDataSet()\n",
    "\n",
    "# test dataset \n",
    "dataset_id = 'ds000246'\n",
    "target_dir = 'data/open_neuro'\n",
    "\n",
    "OpenNeuroDataSet.download(dataset_id, target_dir)\n"
   ]
  }
 ],
 "metadata": {
  "language_info": {
   "name": "python"
  }
 },
 "nbformat": 4,
 "nbformat_minor": 2
}
