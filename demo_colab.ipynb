{
  "cells": [
    {
      "cell_type": "code",
      "execution_count": 1,
      "metadata": {
        "id": "HnGgiNdur84t",
        "colab": {
          "base_uri": "https://localhost:8080/"
        },
        "outputId": "ea38394e-219d-4dba-da58-47f231c38249"
      },
      "outputs": [
        {
          "output_type": "stream",
          "name": "stdout",
          "text": [
            "Cloning into 'repo'...\n",
            "remote: Enumerating objects: 49, done.\u001b[K\n",
            "remote: Counting objects: 100% (49/49), done.\u001b[K\n",
            "remote: Compressing objects: 100% (42/42), done.\u001b[K\n",
            "remote: Total 49 (delta 19), reused 13 (delta 3), pack-reused 0 (from 0)\u001b[K\n",
            "Receiving objects: 100% (49/49), 15.42 KiB | 3.08 MiB/s, done.\n",
            "Resolving deltas: 100% (19/19), done.\n"
          ]
        }
      ],
      "source": [
        "# demo colab\n",
        "# clone repo\n",
        "!git clone https://github.com/HaixinLiuNeuro/load_data_open_neuroimaging.git repo"
      ]
    },
    {
      "cell_type": "code",
      "execution_count": 2,
      "metadata": {
        "colab": {
          "base_uri": "https://localhost:8080/"
        },
        "collapsed": true,
        "id": "kD-Buo6dr84v",
        "outputId": "cafc7480-03fd-4861-ce8f-8c7071711b5b"
      },
      "outputs": [
        {
          "output_type": "stream",
          "name": "stdout",
          "text": [
            "Collecting openneuro-py\n",
            "  Downloading openneuro_py-2024.2.0-py3-none-any.whl.metadata (43 kB)\n",
            "\u001b[?25l     \u001b[90m━━━━━━━━━━━━━━━━━━━━━━━━━━━━━━━━━━━━━━━━\u001b[0m \u001b[32m0.0/43.7 kB\u001b[0m \u001b[31m?\u001b[0m eta \u001b[36m-:--:--\u001b[0m\r\u001b[2K     \u001b[90m━━━━━━━━━━━━━━━━━━━━━━━━━━━━━━━━━━━━━━━━\u001b[0m \u001b[32m43.7/43.7 kB\u001b[0m \u001b[31m1.6 MB/s\u001b[0m eta \u001b[36m0:00:00\u001b[0m\n",
            "\u001b[?25hCollecting aiofiles (from openneuro-py)\n",
            "  Downloading aiofiles-24.1.0-py3-none-any.whl.metadata (10 kB)\n",
            "Requirement already satisfied: httpx>=0.15 in /usr/local/lib/python3.11/dist-packages (from openneuro-py) (0.28.1)\n",
            "Requirement already satisfied: platformdirs in /usr/local/lib/python3.11/dist-packages (from openneuro-py) (4.3.6)\n",
            "Requirement already satisfied: requests in /usr/local/lib/python3.11/dist-packages (from openneuro-py) (2.32.3)\n",
            "Collecting sgqlc (from openneuro-py)\n",
            "  Downloading sgqlc-16.4-py3-none-any.whl.metadata (18 kB)\n",
            "Requirement already satisfied: tqdm in /usr/local/lib/python3.11/dist-packages (from openneuro-py) (4.67.1)\n",
            "Requirement already satisfied: typer[all] in /usr/local/lib/python3.11/dist-packages (from openneuro-py) (0.15.1)\n",
            "Requirement already satisfied: anyio in /usr/local/lib/python3.11/dist-packages (from httpx>=0.15->openneuro-py) (3.7.1)\n",
            "Requirement already satisfied: certifi in /usr/local/lib/python3.11/dist-packages (from httpx>=0.15->openneuro-py) (2025.1.31)\n",
            "Requirement already satisfied: httpcore==1.* in /usr/local/lib/python3.11/dist-packages (from httpx>=0.15->openneuro-py) (1.0.7)\n",
            "Requirement already satisfied: idna in /usr/local/lib/python3.11/dist-packages (from httpx>=0.15->openneuro-py) (3.10)\n",
            "Requirement already satisfied: h11<0.15,>=0.13 in /usr/local/lib/python3.11/dist-packages (from httpcore==1.*->httpx>=0.15->openneuro-py) (0.14.0)\n",
            "Requirement already satisfied: charset-normalizer<4,>=2 in /usr/local/lib/python3.11/dist-packages (from requests->openneuro-py) (3.4.1)\n",
            "Requirement already satisfied: urllib3<3,>=1.21.1 in /usr/local/lib/python3.11/dist-packages (from requests->openneuro-py) (2.3.0)\n",
            "Collecting graphql-core<4.0.0,>=3.2.4 (from sgqlc->openneuro-py)\n",
            "  Downloading graphql_core-3.2.6-py3-none-any.whl.metadata (11 kB)\n",
            "\u001b[33mWARNING: typer 0.15.1 does not provide the extra 'all'\u001b[0m\u001b[33m\n",
            "\u001b[0mRequirement already satisfied: click>=8.0.0 in /usr/local/lib/python3.11/dist-packages (from typer[all]->openneuro-py) (8.1.8)\n",
            "Requirement already satisfied: typing-extensions>=3.7.4.3 in /usr/local/lib/python3.11/dist-packages (from typer[all]->openneuro-py) (4.12.2)\n",
            "Requirement already satisfied: shellingham>=1.3.0 in /usr/local/lib/python3.11/dist-packages (from typer[all]->openneuro-py) (1.5.4)\n",
            "Requirement already satisfied: rich>=10.11.0 in /usr/local/lib/python3.11/dist-packages (from typer[all]->openneuro-py) (13.9.4)\n",
            "Requirement already satisfied: markdown-it-py>=2.2.0 in /usr/local/lib/python3.11/dist-packages (from rich>=10.11.0->typer[all]->openneuro-py) (3.0.0)\n",
            "Requirement already satisfied: pygments<3.0.0,>=2.13.0 in /usr/local/lib/python3.11/dist-packages (from rich>=10.11.0->typer[all]->openneuro-py) (2.18.0)\n",
            "Requirement already satisfied: sniffio>=1.1 in /usr/local/lib/python3.11/dist-packages (from anyio->httpx>=0.15->openneuro-py) (1.3.1)\n",
            "Requirement already satisfied: mdurl~=0.1 in /usr/local/lib/python3.11/dist-packages (from markdown-it-py>=2.2.0->rich>=10.11.0->typer[all]->openneuro-py) (0.1.2)\n",
            "Downloading openneuro_py-2024.2.0-py3-none-any.whl (40 kB)\n",
            "\u001b[2K   \u001b[90m━━━━━━━━━━━━━━━━━━━━━━━━━━━━━━━━━━━━━━━━\u001b[0m \u001b[32m40.4/40.4 kB\u001b[0m \u001b[31m1.7 MB/s\u001b[0m eta \u001b[36m0:00:00\u001b[0m\n",
            "\u001b[?25hDownloading aiofiles-24.1.0-py3-none-any.whl (15 kB)\n",
            "Downloading sgqlc-16.4-py3-none-any.whl (82 kB)\n",
            "\u001b[2K   \u001b[90m━━━━━━━━━━━━━━━━━━━━━━━━━━━━━━━━━━━━━━━━\u001b[0m \u001b[32m82.2/82.2 kB\u001b[0m \u001b[31m4.2 MB/s\u001b[0m eta \u001b[36m0:00:00\u001b[0m\n",
            "\u001b[?25hDownloading graphql_core-3.2.6-py3-none-any.whl (203 kB)\n",
            "\u001b[2K   \u001b[90m━━━━━━━━━━━━━━━━━━━━━━━━━━━━━━━━━━━━━━━━\u001b[0m \u001b[32m203.4/203.4 kB\u001b[0m \u001b[31m7.2 MB/s\u001b[0m eta \u001b[36m0:00:00\u001b[0m\n",
            "\u001b[?25hInstalling collected packages: graphql-core, aiofiles, sgqlc, openneuro-py\n",
            "Successfully installed aiofiles-24.1.0 graphql-core-3.2.6 openneuro-py-2024.2.0 sgqlc-16.4\n"
          ]
        }
      ],
      "source": [
        "# install dependency\n",
        "!pip install openneuro-py"
      ]
    },
    {
      "cell_type": "code",
      "source": [
        "# add repo path to python path\n",
        "import os\n",
        "import sys\n",
        "\n",
        "repo_path = os.path.abspath('repo')\n",
        "\n",
        "if repo_path not in sys.path:\n",
        "  sys.path.append(repo_path)\n"
      ],
      "metadata": {
        "id": "g0pmei5BtSGD"
      },
      "execution_count": 3,
      "outputs": []
    },
    {
      "cell_type": "code",
      "execution_count": 4,
      "metadata": {
        "id": "qx37oRcTr84v"
      },
      "outputs": [],
      "source": [
        "# imports\n",
        "from datasets.openneuro_dataset import OpenNeuroDataSet"
      ]
    },
    {
      "cell_type": "code",
      "execution_count": 5,
      "metadata": {
        "colab": {
          "base_uri": "https://localhost:8080/",
          "height": 257,
          "referenced_widgets": [
            "5095d4a0f41b4dee9d92d1286c7e4db4",
            "a9d6a04115cb49818f0daf9eb1df9ac3",
            "5fdce4b28b494aaa8c821af3ac9bbb7f",
            "01af4edb5a1c400fbaa7a76a68283d86",
            "972feea64a994faeaf1a6cd237be318e",
            "80ad9970ef754e7ab78dc17924427bcc",
            "5003348931f84a339b62dc3e6b3c4af5",
            "c0d1fac071c54a1c8e2e8e71ff50aac5",
            "f46cd8bc40f944f8b5a29dc4590ea4a8",
            "d3f5c5dbf6144eeda469df44f4c78080",
            "371a0d5b6e1d43eeb7f418afb89f4657"
          ]
        },
        "id": "LGM62CwFr84w",
        "outputId": "388944e5-84dc-43b0-d56f-a1e41e2769a0"
      },
      "outputs": [
        {
          "output_type": "stream",
          "name": "stdout",
          "text": [
            "\n",
            "👋 Hello! This is openneuro-py 2024.2.0. Great to see you! 🤗\n",
            "\n",
            "   👉 Please report problems 🤯 and bugs 🪲 at\n",
            "      https://github.com/hoechenberger/openneuro-py/issues\n",
            "\n",
            "🌍 Preparing to download ds000246 …\n"
          ]
        },
        {
          "output_type": "display_data",
          "data": {
            "text/plain": [
              "📁 Traversing directories for ds000246 : 0 entities [00:00, ? entities/s]"
            ],
            "application/vnd.jupyter.widget-view+json": {
              "version_major": 2,
              "version_minor": 0,
              "model_id": "5095d4a0f41b4dee9d92d1286c7e4db4"
            }
          },
          "metadata": {}
        },
        {
          "output_type": "stream",
          "name": "stdout",
          "text": [
            "📥 Retrieving up to 54 files (5 concurrent downloads). \n",
            "✅ Finished downloading ds000246.\n",
            " \n",
            "🧠 Please enjoy your brains.\n",
            " \n"
          ]
        }
      ],
      "source": [
        "open_neuro = OpenNeuroDataSet()\n",
        "\n",
        "# test dataset\n",
        "dataset_id = 'ds000246'\n",
        "target_dir = os.path.join(repo_path, 'data', 'open_neuro', dataset_id)\n",
        "\n",
        "open_neuro.download(dataset_id, target_dir)\n"
      ]
    },
    {
      "cell_type": "code",
      "source": [
        "# display the downloaded files/folder content\n",
        "print(\"The downloaded folder content\")\n",
        "for root, dirs, files in os.walk(target_dir):\n",
        "  print(f\"Root: {root}\")\n",
        "  print(\"Directories:\")\n",
        "  for dir_name in dirs:\n",
        "      print(f\"  {dir_name}\")\n",
        "  print(\"Files:\")\n",
        "  for file_name in files:\n",
        "      print(f\"  {file_name}\")"
      ],
      "metadata": {
        "id": "T2tdwGzcykgC",
        "outputId": "0e40a323-e1a3-46f5-e85a-8421e3546d4d",
        "colab": {
          "base_uri": "https://localhost:8080/"
        }
      },
      "execution_count": 8,
      "outputs": [
        {
          "output_type": "stream",
          "name": "stdout",
          "text": [
            "The downloaded folder content\n",
            "Root: /content/repo/data/open_neuro/ds000246\n",
            "Directories:\n",
            "  sub-emptyroom\n",
            "  sub-0001\n",
            "Files:\n",
            "  README\n",
            "  dataset_description.json\n",
            "  participants.json\n",
            "  CHANGES\n",
            "  participants.tsv\n",
            "Root: /content/repo/data/open_neuro/ds000246/sub-emptyroom\n",
            "Directories:\n",
            "  meg\n",
            "Files:\n",
            "  sub-emptyroom_scans.tsv\n",
            "Root: /content/repo/data/open_neuro/ds000246/sub-emptyroom/meg\n",
            "Directories:\n",
            "  sub-emptyroom_task-noise_run-01_meg.ds\n",
            "Files:\n",
            "  sub-emptyroom_task-noise_run-01_meg.json\n",
            "  sub-emptyroom_task-noise_run-01_channels.tsv\n",
            "Root: /content/repo/data/open_neuro/ds000246/sub-emptyroom/meg/sub-emptyroom_task-noise_run-01_meg.ds\n",
            "Directories:\n",
            "Files:\n",
            "  sub-emptyroom_task-noise_run-01_meg.res4\n",
            "  ClassFile.cls\n",
            "  sub-emptyroom_task-noise_run-01_meg.acq\n",
            "  sub-emptyroom_task-noise_run-01_meg.infods\n",
            "  default.de\n",
            "  sub-emptyroom_task-noise_run-01_meg.newds\n",
            "  sub-emptyroom_task-noise_run-01_meg.meg4\n",
            "  BadChannels\n",
            "  processing.cfg\n",
            "  sub-emptyroom_task-noise_run-01_meg.hc\n",
            "  params.dsc\n",
            "  sub-emptyroom_task-noise_run-01_meg.hist\n",
            "Root: /content/repo/data/open_neuro/ds000246/sub-0001\n",
            "Directories:\n",
            "  meg\n",
            "  anat\n",
            "Files:\n",
            "  sub-0001_scans.tsv\n",
            "Root: /content/repo/data/open_neuro/ds000246/sub-0001/meg\n",
            "Directories:\n",
            "  sub-0001_task-AEF_run-01_meg.ds\n",
            "  sub-0001_task-AEF_run-02_meg.ds\n",
            "Files:\n",
            "  sub-0001_coordsystem.json\n",
            "  sub-0001_task-AEF_run-01_meg.json\n",
            "  sub-0001_task-AEF_run-02_meg.json\n",
            "  sub-0001_acq-NAS_photo.jpg\n",
            "  sub-0001_headshape.pos\n",
            "  sub-0001_acq-RPA_photo.jpg\n",
            "  sub-0001_task-AEF_run-02_channels.tsv\n",
            "  sub-0001_acq-LPA_photo.jpg\n",
            "  sub-0001_task-AEF_run-01_channels.tsv\n",
            "Root: /content/repo/data/open_neuro/ds000246/sub-0001/meg/sub-0001_task-AEF_run-01_meg.ds\n",
            "Directories:\n",
            "Files:\n",
            "  ClassFile.cls\n",
            "  sub-0001_task-AEF_run-01_meg.meg4\n",
            "  sub-0001_task-AEF_run-01_meg.hc\n",
            "  MarkerFile.mrk\n",
            "  sub-0001_task-AEF_run-01_meg.eeg\n",
            "  sub-0001_task-AEF_run-01_meg.infods\n",
            "  ChannelGroupSet.cfg\n",
            "  sub-0001_task-AEF_run-01_meg.res4\n",
            "  BadChannels\n",
            "  sub-0001_task-AEF_run-01_meg.acq\n",
            "  sub-0001_task-AEF_run-01_meg.hist\n",
            "Root: /content/repo/data/open_neuro/ds000246/sub-0001/meg/sub-0001_task-AEF_run-02_meg.ds\n",
            "Directories:\n",
            "Files:\n",
            "  ClassFile.cls\n",
            "  sub-0001_task-AEF_run-02_meg.eeg\n",
            "  sub-0001_task-AEF_run-02_meg.hist\n",
            "  sub-0001_task-AEF_run-02_meg.infods\n",
            "  sub-0001_task-AEF_run-02_meg.acq\n",
            "  MarkerFile.mrk\n",
            "  sub-0001_task-AEF_run-02_meg.meg4\n",
            "  sub-0001_task-AEF_run-02_meg.res4\n",
            "  ChannelGroupSet.cfg\n",
            "  BadChannels\n",
            "  sub-0001_task-AEF_run-02_meg.hc\n",
            "  sub-0001_task-AEF_run-02_meg.newds\n",
            "Root: /content/repo/data/open_neuro/ds000246/sub-0001/anat\n",
            "Directories:\n",
            "Files:\n",
            "  sub-0001_T1w.nii.gz\n"
          ]
        }
      ]
    }
  ],
  "metadata": {
    "language_info": {
      "name": "python"
    },
    "colab": {
      "provenance": []
    },
    "kernelspec": {
      "name": "python3",
      "display_name": "Python 3"
    },
    "widgets": {
      "application/vnd.jupyter.widget-state+json": {
        "5095d4a0f41b4dee9d92d1286c7e4db4": {
          "model_module": "@jupyter-widgets/controls",
          "model_name": "HBoxModel",
          "model_module_version": "1.5.0",
          "state": {
            "_dom_classes": [],
            "_model_module": "@jupyter-widgets/controls",
            "_model_module_version": "1.5.0",
            "_model_name": "HBoxModel",
            "_view_count": null,
            "_view_module": "@jupyter-widgets/controls",
            "_view_module_version": "1.5.0",
            "_view_name": "HBoxView",
            "box_style": "",
            "children": [
              "IPY_MODEL_a9d6a04115cb49818f0daf9eb1df9ac3",
              "IPY_MODEL_5fdce4b28b494aaa8c821af3ac9bbb7f",
              "IPY_MODEL_01af4edb5a1c400fbaa7a76a68283d86"
            ],
            "layout": "IPY_MODEL_972feea64a994faeaf1a6cd237be318e"
          }
        },
        "a9d6a04115cb49818f0daf9eb1df9ac3": {
          "model_module": "@jupyter-widgets/controls",
          "model_name": "HTMLModel",
          "model_module_version": "1.5.0",
          "state": {
            "_dom_classes": [],
            "_model_module": "@jupyter-widgets/controls",
            "_model_module_version": "1.5.0",
            "_model_name": "HTMLModel",
            "_view_count": null,
            "_view_module": "@jupyter-widgets/controls",
            "_view_module_version": "1.5.0",
            "_view_name": "HTMLView",
            "description": "",
            "description_tooltip": null,
            "layout": "IPY_MODEL_80ad9970ef754e7ab78dc17924427bcc",
            "placeholder": "​",
            "style": "IPY_MODEL_5003348931f84a339b62dc3e6b3c4af5",
            "value": "📁 Traversing directories for ds000246 : "
          }
        },
        "5fdce4b28b494aaa8c821af3ac9bbb7f": {
          "model_module": "@jupyter-widgets/controls",
          "model_name": "FloatProgressModel",
          "model_module_version": "1.5.0",
          "state": {
            "_dom_classes": [],
            "_model_module": "@jupyter-widgets/controls",
            "_model_module_version": "1.5.0",
            "_model_name": "FloatProgressModel",
            "_view_count": null,
            "_view_module": "@jupyter-widgets/controls",
            "_view_module_version": "1.5.0",
            "_view_name": "ProgressView",
            "bar_style": "success",
            "description": "",
            "description_tooltip": null,
            "layout": "IPY_MODEL_c0d1fac071c54a1c8e2e8e71ff50aac5",
            "max": 1,
            "min": 0,
            "orientation": "horizontal",
            "style": "IPY_MODEL_f46cd8bc40f944f8b5a29dc4590ea4a8",
            "value": 1
          }
        },
        "01af4edb5a1c400fbaa7a76a68283d86": {
          "model_module": "@jupyter-widgets/controls",
          "model_name": "HTMLModel",
          "model_module_version": "1.5.0",
          "state": {
            "_dom_classes": [],
            "_model_module": "@jupyter-widgets/controls",
            "_model_module_version": "1.5.0",
            "_model_name": "HTMLModel",
            "_view_count": null,
            "_view_module": "@jupyter-widgets/controls",
            "_view_module_version": "1.5.0",
            "_view_name": "HTMLView",
            "description": "",
            "description_tooltip": null,
            "layout": "IPY_MODEL_d3f5c5dbf6144eeda469df44f4c78080",
            "placeholder": "​",
            "style": "IPY_MODEL_371a0d5b6e1d43eeb7f418afb89f4657",
            "value": " 54/? [00:01&lt;00:00, 50.62 entities/s]"
          }
        },
        "972feea64a994faeaf1a6cd237be318e": {
          "model_module": "@jupyter-widgets/base",
          "model_name": "LayoutModel",
          "model_module_version": "1.2.0",
          "state": {
            "_model_module": "@jupyter-widgets/base",
            "_model_module_version": "1.2.0",
            "_model_name": "LayoutModel",
            "_view_count": null,
            "_view_module": "@jupyter-widgets/base",
            "_view_module_version": "1.2.0",
            "_view_name": "LayoutView",
            "align_content": null,
            "align_items": null,
            "align_self": null,
            "border": null,
            "bottom": null,
            "display": null,
            "flex": null,
            "flex_flow": null,
            "grid_area": null,
            "grid_auto_columns": null,
            "grid_auto_flow": null,
            "grid_auto_rows": null,
            "grid_column": null,
            "grid_gap": null,
            "grid_row": null,
            "grid_template_areas": null,
            "grid_template_columns": null,
            "grid_template_rows": null,
            "height": null,
            "justify_content": null,
            "justify_items": null,
            "left": null,
            "margin": null,
            "max_height": null,
            "max_width": null,
            "min_height": null,
            "min_width": null,
            "object_fit": null,
            "object_position": null,
            "order": null,
            "overflow": null,
            "overflow_x": null,
            "overflow_y": null,
            "padding": null,
            "right": null,
            "top": null,
            "visibility": null,
            "width": null
          }
        },
        "80ad9970ef754e7ab78dc17924427bcc": {
          "model_module": "@jupyter-widgets/base",
          "model_name": "LayoutModel",
          "model_module_version": "1.2.0",
          "state": {
            "_model_module": "@jupyter-widgets/base",
            "_model_module_version": "1.2.0",
            "_model_name": "LayoutModel",
            "_view_count": null,
            "_view_module": "@jupyter-widgets/base",
            "_view_module_version": "1.2.0",
            "_view_name": "LayoutView",
            "align_content": null,
            "align_items": null,
            "align_self": null,
            "border": null,
            "bottom": null,
            "display": null,
            "flex": null,
            "flex_flow": null,
            "grid_area": null,
            "grid_auto_columns": null,
            "grid_auto_flow": null,
            "grid_auto_rows": null,
            "grid_column": null,
            "grid_gap": null,
            "grid_row": null,
            "grid_template_areas": null,
            "grid_template_columns": null,
            "grid_template_rows": null,
            "height": null,
            "justify_content": null,
            "justify_items": null,
            "left": null,
            "margin": null,
            "max_height": null,
            "max_width": null,
            "min_height": null,
            "min_width": null,
            "object_fit": null,
            "object_position": null,
            "order": null,
            "overflow": null,
            "overflow_x": null,
            "overflow_y": null,
            "padding": null,
            "right": null,
            "top": null,
            "visibility": null,
            "width": null
          }
        },
        "5003348931f84a339b62dc3e6b3c4af5": {
          "model_module": "@jupyter-widgets/controls",
          "model_name": "DescriptionStyleModel",
          "model_module_version": "1.5.0",
          "state": {
            "_model_module": "@jupyter-widgets/controls",
            "_model_module_version": "1.5.0",
            "_model_name": "DescriptionStyleModel",
            "_view_count": null,
            "_view_module": "@jupyter-widgets/base",
            "_view_module_version": "1.2.0",
            "_view_name": "StyleView",
            "description_width": ""
          }
        },
        "c0d1fac071c54a1c8e2e8e71ff50aac5": {
          "model_module": "@jupyter-widgets/base",
          "model_name": "LayoutModel",
          "model_module_version": "1.2.0",
          "state": {
            "_model_module": "@jupyter-widgets/base",
            "_model_module_version": "1.2.0",
            "_model_name": "LayoutModel",
            "_view_count": null,
            "_view_module": "@jupyter-widgets/base",
            "_view_module_version": "1.2.0",
            "_view_name": "LayoutView",
            "align_content": null,
            "align_items": null,
            "align_self": null,
            "border": null,
            "bottom": null,
            "display": null,
            "flex": null,
            "flex_flow": null,
            "grid_area": null,
            "grid_auto_columns": null,
            "grid_auto_flow": null,
            "grid_auto_rows": null,
            "grid_column": null,
            "grid_gap": null,
            "grid_row": null,
            "grid_template_areas": null,
            "grid_template_columns": null,
            "grid_template_rows": null,
            "height": null,
            "justify_content": null,
            "justify_items": null,
            "left": null,
            "margin": null,
            "max_height": null,
            "max_width": null,
            "min_height": null,
            "min_width": null,
            "object_fit": null,
            "object_position": null,
            "order": null,
            "overflow": null,
            "overflow_x": null,
            "overflow_y": null,
            "padding": null,
            "right": null,
            "top": null,
            "visibility": null,
            "width": "20px"
          }
        },
        "f46cd8bc40f944f8b5a29dc4590ea4a8": {
          "model_module": "@jupyter-widgets/controls",
          "model_name": "ProgressStyleModel",
          "model_module_version": "1.5.0",
          "state": {
            "_model_module": "@jupyter-widgets/controls",
            "_model_module_version": "1.5.0",
            "_model_name": "ProgressStyleModel",
            "_view_count": null,
            "_view_module": "@jupyter-widgets/base",
            "_view_module_version": "1.2.0",
            "_view_name": "StyleView",
            "bar_color": null,
            "description_width": ""
          }
        },
        "d3f5c5dbf6144eeda469df44f4c78080": {
          "model_module": "@jupyter-widgets/base",
          "model_name": "LayoutModel",
          "model_module_version": "1.2.0",
          "state": {
            "_model_module": "@jupyter-widgets/base",
            "_model_module_version": "1.2.0",
            "_model_name": "LayoutModel",
            "_view_count": null,
            "_view_module": "@jupyter-widgets/base",
            "_view_module_version": "1.2.0",
            "_view_name": "LayoutView",
            "align_content": null,
            "align_items": null,
            "align_self": null,
            "border": null,
            "bottom": null,
            "display": null,
            "flex": null,
            "flex_flow": null,
            "grid_area": null,
            "grid_auto_columns": null,
            "grid_auto_flow": null,
            "grid_auto_rows": null,
            "grid_column": null,
            "grid_gap": null,
            "grid_row": null,
            "grid_template_areas": null,
            "grid_template_columns": null,
            "grid_template_rows": null,
            "height": null,
            "justify_content": null,
            "justify_items": null,
            "left": null,
            "margin": null,
            "max_height": null,
            "max_width": null,
            "min_height": null,
            "min_width": null,
            "object_fit": null,
            "object_position": null,
            "order": null,
            "overflow": null,
            "overflow_x": null,
            "overflow_y": null,
            "padding": null,
            "right": null,
            "top": null,
            "visibility": null,
            "width": null
          }
        },
        "371a0d5b6e1d43eeb7f418afb89f4657": {
          "model_module": "@jupyter-widgets/controls",
          "model_name": "DescriptionStyleModel",
          "model_module_version": "1.5.0",
          "state": {
            "_model_module": "@jupyter-widgets/controls",
            "_model_module_version": "1.5.0",
            "_model_name": "DescriptionStyleModel",
            "_view_count": null,
            "_view_module": "@jupyter-widgets/base",
            "_view_module_version": "1.2.0",
            "_view_name": "StyleView",
            "description_width": ""
          }
        }
      }
    }
  },
  "nbformat": 4,
  "nbformat_minor": 0
}